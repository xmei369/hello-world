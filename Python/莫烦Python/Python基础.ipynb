{
 "cells": [
  {
   "cell_type": "markdown",
   "metadata": {},
   "source": [
    "教程来源：[莫烦Python](https://morvanzhou.github.io/) - [Python基础](https://morvanzhou.github.io/tutorials/python-basic/basic/)  \n",
    "\n",
    "# 1. 基本使用"
   ]
  },
  {
   "cell_type": "code",
   "execution_count": 8,
   "metadata": {},
   "outputs": [
    {
     "name": "stdout",
     "output_type": "stream",
     "text": [
      "I'm good\n",
      "apple6666\n",
      "3\n",
      "3.2\n",
      "2^3 = 8\n",
      "1 2 3\n"
     ]
    }
   ],
   "source": [
    "# 1.1. print功能\n",
    "\n",
    "print('I\\'m good')\n",
    "print('apple' + str(6666))\n",
    "print(int('1')+2)\n",
    "print(float('1.2') + 2)\n",
    "\n",
    "\n",
    "# 1.2. 基础数学运算\n",
    "\n",
    "print('2^3 =', 2**3) # 2的3次方\n",
    "\n",
    "\n",
    "# 1.3. 变量\n",
    "\n",
    "'''\n",
    "IDLE：打开python的IDLE；\n",
    "新建module：菜单栏File-New File；\n",
    "Run-Run Module(F5)。\n",
    "'''\n",
    "\n",
    "a,b,c = 1,2,3\n",
    "print(a,b,c)"
   ]
  },
  {
   "cell_type": "markdown",
   "metadata": {},
   "source": [
    "# 2. 循环"
   ]
  },
  {
   "cell_type": "code",
   "execution_count": 10,
   "metadata": {},
   "outputs": [
    {
     "name": "stdout",
     "output_type": "stream",
     "text": [
      "1\n",
      "4\n",
      "7\n"
     ]
    }
   ],
   "source": [
    "# 2.1. while循环\n",
    "\n",
    "''' 终止while True无限循环，用Ctrl+C。 '''\n",
    "\n",
    "\n",
    "# 2.2. for循环\n",
    "\n",
    "'''\n",
    "加tab：选中所需的行，按Tab键或用Ctrl+](Win)、Command+](Mac)。\n",
    "删除多于的tab：Ctrl+[(Win)；Command+[(Mac)。\n",
    "for相当于迭代器。\n",
    "'''\n",
    "\n",
    "for i in range(1,10, 3): # 只有1~9九个数，步长3（默认起始为0，步长1。终止的数值不能缺省）。\n",
    "    print(i)\n"
   ]
  },
  {
   "cell_type": "markdown",
   "metadata": {},
   "source": [
    "# 3. if判断"
   ]
  },
  {
   "cell_type": "code",
   "execution_count": 11,
   "metadata": {},
   "outputs": [
    {
     "name": "stdout",
     "output_type": "stream",
     "text": [
      "x is less than y, and y is greater than z\n"
     ]
    },
    {
     "data": {
      "text/plain": [
       "'elif也可以打成else if。'"
      ]
     },
     "execution_count": 11,
     "metadata": {},
     "output_type": "execute_result"
    }
   ],
   "source": [
    "# 3.1. if判断\n",
    "\n",
    "x,y,z = 1,2,0\n",
    "if x<y>z: # 可以连续不等式\n",
    "    print('x is less than y, and y is greater than z')\n",
    "\n",
    "\n",
    "# 3.2. if else判断\n",
    "\n",
    "\n",
    "# 3.3. if elif else判断\n",
    "\n",
    "'''elif也可以打成else if。'''"
   ]
  },
  {
   "cell_type": "markdown",
   "metadata": {},
   "source": [
    "# 4. 定义功能"
   ]
  },
  {
   "cell_type": "code",
   "execution_count": 15,
   "metadata": {},
   "outputs": [
    {
     "name": "stdout",
     "output_type": "stream",
     "text": [
      "This is a function\n",
      "the c is 10\n",
      "PRICE: 1000 COLOUR: blue BRAND: Camry IS_SECOND_HAND: True\n"
     ]
    }
   ],
   "source": [
    "# 4.1. def函数\n",
    "\n",
    "def function():\n",
    "    print('This is a function')\n",
    "function()\n",
    "\n",
    "\n",
    "# 4.2. 函数参数\n",
    "\n",
    "def fun(a,b):\n",
    "    c = a*b\n",
    "    print('the c is',c) # 唔：is后面不用加空格，输出时会自动加空格。\n",
    "fun(a=2,b=5)\n",
    "\n",
    "\n",
    "# 4.3. 函数默认参数\n",
    "\n",
    "def sale_car(price, colour='red', brand='Camry', is_second_hand=True): #注意：未预先定义的要放在前面，有默认值的放在后面。\n",
    "    print('PRICE:',price,\n",
    "          'COLOUR:',colour,\n",
    "          'BRAND:',brand,\n",
    "          'IS_SECOND_HAND:',is_second_hand)\n",
    "sale_car(1000, colour='blue')"
   ]
  },
  {
   "cell_type": "markdown",
   "metadata": {},
   "source": [
    "# 5. 变量形式"
   ]
  },
  {
   "cell_type": "code",
   "execution_count": 2,
   "metadata": {},
   "outputs": [
    {
     "name": "stdout",
     "output_type": "stream",
     "text": [
      "100\n",
      "200\n",
      "a before: None\n",
      "None\n",
      "a after: 20\n"
     ]
    }
   ],
   "source": [
    "'''全局变量 & 局部变量'''\n",
    "\n",
    "APPLE=100 # 全局变量习惯上一般用全大写。\n",
    "def fun():\n",
    "    a=APPLE\n",
    "    return a+100\n",
    "# print(a) # 无法输出局部变量print(a)，会报错。\n",
    "print(APPLE)\n",
    "print(fun())\n",
    "\n",
    "'''在局部使用全局变量：'''\n",
    "a = None\n",
    "def fun():\n",
    "    global a # 指定这个a是全局的那个a；否则这里的a是局部变量，与全局的a不同。\n",
    "    a = 20 # 不能边申明是global边赋值，如global a = 20会报错。\n",
    "print('a before:',a)\n",
    "print(fun()) # 运行函数后改变了全局变量a的值。\n",
    "print('a after:',a)"
   ]
  },
  {
   "cell_type": "markdown",
   "metadata": {},
   "source": [
    "# 6. 模块安装\n",
    "\n",
    "以numpy模块为例。\n",
    "\n",
    "Win里下载安装程序：\n",
    "https://sourceforge.net/projects/numpy/files/NumPy/1.9.2/\n",
    "\n",
    "Mac里用pip3程序：\n",
    "$ sudo pip3 install numpy # 安装\n",
    "$ sudo pip3 install numpy-1.9.2 # 可能是安装指定版本\n",
    "$ sudo pip3 install -U numpy # 升级\n",
    "$ sudo pip3 uninstall numpy # 卸载"
   ]
  },
  {
   "cell_type": "markdown",
   "metadata": {},
   "source": [
    "# 7. 文件读取"
   ]
  },
  {
   "cell_type": "code",
   "execution_count": null,
   "metadata": {},
   "outputs": [],
   "source": [
    "# 7.1. 读写文件1：新建\n",
    "\n",
    "text = 'This is my first test.\\nThis is next line.\\nThis is last line.'\n",
    "\n",
    "my_file = open(file='my file.txt', mode='w') # 以“写入”模式打开一个文件，不存在则会新建。\n",
    "my_file.write(text) # 写入内容\n",
    "my_file.close() # 关闭文件，在脚本所在目录下生成一个新的文件。\n",
    "\n",
    "\n",
    "# 7.2. 读写文件2：追加\n",
    "\n",
    "append_text = '\\nThis is appended file.'\n",
    "\n",
    "my_file = open(file='my file.txt', mode='a') # 打开文件的模式为“追加”。\n",
    "my_file.write(append_text)\n",
    "my_file.close()\n",
    "\n",
    "\n",
    "# 7.3. 读写文件3：读入\n",
    "\n",
    "file = open('my file.txt', 'r') # 读取的是文件而不是文件内容\n",
    "content = file.read() # 读取文件的内容\n",
    "print(content)\n",
    "\n",
    "content = file.readline() # 逐行读入。\n",
    "print(content) # 输出第一行\n",
    "content = file.readline()\n",
    "print(content) # 输出第二行\n",
    "\n",
    "contentList = file.readlines() # 读入所有行存为一个list。\n",
    "print(contentList)"
   ]
  },
  {
   "cell_type": "markdown",
   "metadata": {},
   "source": [
    "# 8. class类"
   ]
  },
  {
   "cell_type": "code",
   "execution_count": 8,
   "metadata": {},
   "outputs": [
    {
     "name": "stdout",
     "output_type": "stream",
     "text": [
      "18\n",
      "Good calculator\n",
      "11\n",
      "9\n",
      "Bad calculator\n",
      "3\n",
      "1100\n"
     ]
    },
    {
     "data": {
      "text/plain": [
       "'\\n唔：其实跟定义函数一样，也赋给类以初始的值（通过定义类的初始函数__init__），便于调用类时替换这些参数值；\\n也可以在初始函数中运行其他函数，包括初始函数下面定义的函数。\\n'"
      ]
     },
     "execution_count": 8,
     "metadata": {},
     "output_type": "execute_result"
    }
   ],
   "source": [
    "# 8.1. 类\n",
    "\n",
    "class Calculator: # 定义一个计算器的类。习惯上一般把首字母大写来表示类。\n",
    "    name = 'Good calculator' # 定义类的属性-计算器名称，储存在self中\n",
    "    price = 18 # 定义类的属性-计算器价格\n",
    "    def add(self,x,y): # 继承self（包含名称和价格信息）\n",
    "        print(self.name) # 输出属性中的name\n",
    "        result = x + y\n",
    "        print(result)\n",
    "    def minus(self,x,y):\n",
    "        result = x - y\n",
    "        print(result)\n",
    "    def times(self,x,y):\n",
    "        result = x * y\n",
    "        print(result)\n",
    "    def divide(self,x,y):\n",
    "        result = x / y\n",
    "        print(result)\n",
    "\n",
    "calcul = Calculator() # 把类赋给变量\n",
    "print(calcul.price) # 输出类的属性中的价格\n",
    "calcul.add(10,1) # 调用类中的函数\n",
    "calcul.minus(10,1)\n",
    "\n",
    "'''唔：类就像一个小模块，既可以储存信息（像R中的S4对象），也可以储存函数工具。'''\n",
    "\n",
    "\n",
    "# 8.2. 类中的init功能\n",
    "class Calculator:\n",
    "    name = 'Good calculator'\n",
    "    price = 18\n",
    "    def __init__(self,name,price,height,width,weight=1200):\n",
    "        self.name=name # 给定属性\n",
    "        self.price=price\n",
    "        self.height=height\n",
    "        self.wi = width # self后面的名称可以变换，相当于在定义self的各个属性名；而等号右边的只是init函数的参数。\n",
    "        self.we = weight\n",
    "        self.add(1,2) # 把类赋给变量后会直接输出这个加法的结果。尽管add的函数在后面定义，不过肯定是全部编译完了再运行的。\n",
    "    def add(self,x,y): # 继承self\n",
    "        print(self.name) # 输出属性中的name\n",
    "        result = x + y\n",
    "        print(result)\n",
    "c = Calculator('Bad calculator', 12, 5, 6, 1100) # 必需给定初始参数值\n",
    "print(c.we)\n",
    "\n",
    "'''\n",
    "唔：其实跟定义函数一样，也赋给类以初始的值（通过定义类的初始函数__init__），便于调用类时替换这些参数值；\n",
    "也可以在初始函数中运行其他函数，包括初始函数下面定义的函数。\n",
    "'''"
   ]
  },
  {
   "cell_type": "markdown",
   "metadata": {},
   "source": [
    "# 9. input输入"
   ]
  },
  {
   "cell_type": "code",
   "execution_count": 9,
   "metadata": {},
   "outputs": [
    {
     "name": "stdout",
     "output_type": "stream",
     "text": [
      "Please give a number:3\n",
      "Good luck\n"
     ]
    }
   ],
   "source": [
    "a_input = int(input('Please give a number:')) # 输入的都视为str\n",
    "if a_input == 1:\n",
    "    print('This is a good one')\n",
    "elif a_input ==2:\n",
    "    print('See you next time')\n",
    "else:\n",
    "    print('Good luck')"
   ]
  },
  {
   "cell_type": "markdown",
   "metadata": {},
   "source": [
    "# 10. 元组、列表、字典"
   ]
  },
  {
   "cell_type": "markdown",
   "metadata": {},
   "source": [
    "## 10.1. 元组 列表"
   ]
  },
  {
   "cell_type": "code",
   "execution_count": 12,
   "metadata": {},
   "outputs": [
    {
     "name": "stdout",
     "output_type": "stream",
     "text": [
      "1\n",
      "2\n",
      "13\n",
      "2\n",
      "4\n",
      "16\n",
      "5\n",
      "3\n",
      "56\n",
      "index = 0 number in tuple= 1\n",
      "index = 1 number in tuple= 2\n",
      "index = 2 number in tuple= 13\n",
      "index = 0 number in list= 5\n",
      "index = 1 number in list= 3\n",
      "index = 2 number in list= 56\n"
     ]
    },
    {
     "data": {
      "text/plain": [
       "'唔：除了定义时括号不同，用起来没差别。'"
      ]
     },
     "execution_count": 12,
     "metadata": {},
     "output_type": "execute_result"
    }
   ],
   "source": [
    "a_tuple = (1,2,13)\n",
    "b_tuple = 2,4,16 # 另一种定义的格式。\n",
    "a_list = [5,3,56]\n",
    "\n",
    "for content in a_tuple:\n",
    "    print(content)\n",
    "for content in b_tuple:\n",
    "    print(content)\n",
    "for content in a_list:\n",
    "    print(content)\n",
    "\n",
    "for index in range(len(a_tuple)):\n",
    "    print('index =',index,'number in tuple=',a_tuple[index]) # 索引从0开始\n",
    "for index in range(len(a_list)):\n",
    "    print('index =',index,'number in list=',a_list[index])\n",
    "    \n",
    "'''唔：除了定义时括号不同，用起来没差别。'''"
   ]
  },
  {
   "cell_type": "markdown",
   "metadata": {},
   "source": [
    "## 10.2. 列表"
   ]
  },
  {
   "cell_type": "code",
   "execution_count": 16,
   "metadata": {
    "scrolled": true
   },
   "outputs": [
    {
     "name": "stdout",
     "output_type": "stream",
     "text": [
      "[0, 1, 2, 2, 3, 4, 5, -3, -2, -1, 0]\n",
      "[0, 1, 0, 2, 2, 3, 4, 5, -3, -2, -1]\n",
      "[0, 1, 2, 3, 4, 5, -3, -2, -1]\n",
      "0\n",
      "-1\n",
      "[0, 1, 2]\n",
      "[0, 1, 2]\n",
      "[-3, -2]\n",
      "[-3, -2, -1]\n",
      "2\n",
      "2\n",
      "[-3, -2, -1, 0, 1, 2, 2, 3, 4, 5]\n",
      "[5, 4, 3, 2, 2, 1, 0, -1, -2, -3]\n"
     ]
    }
   ],
   "source": [
    "a = [0,1,2,2,3,4,5,-3,-2,-1]\n",
    "a.append(0)\n",
    "print(a)\n",
    "\n",
    "a = [0,1,2,2,3,4,5,-3,-2,-1]\n",
    "a.insert(2,0) # 第2位后插入0\n",
    "print(a)\n",
    "\n",
    "a = [0,1,2,2,3,4,5,-3,-2,-1]\n",
    "a.remove(2) # 移除第一次出现的2\n",
    "print(a)\n",
    "\n",
    "a = [0,1,2,2,3,4,5,-3,-2,-1]\n",
    "print(a[0])\n",
    "print(a[-1])\n",
    "print(a[0:3])\n",
    "print(a[:3])\n",
    "print(a[-3:-1])\n",
    "print(a[-3:]) # 这里只能省略，反向不存在0的索引了。\n",
    "\n",
    "print(a.index(2)) # 第一个2的索引\n",
    "print(a.count(2)) # 值2的次数\n",
    "\n",
    "a.sort() # 排序后原来的a会被替换掉\n",
    "print(a)\n",
    "\n",
    "a.sort(reverse=True)\n",
    "print(a)"
   ]
  },
  {
   "cell_type": "markdown",
   "metadata": {},
   "source": [
    "## 10.3. 多维列表\n",
    "\n",
    "常用处理模块：numpy, pandas"
   ]
  },
  {
   "cell_type": "code",
   "execution_count": 17,
   "metadata": {},
   "outputs": [
    {
     "name": "stdout",
     "output_type": "stream",
     "text": [
      "1\n",
      "2\n"
     ]
    }
   ],
   "source": [
    "a = [1,2,3,4,5] # 可视为a = [[1,2,3,4,5]]\n",
    "multi_dim_a = [[1,2,3],\n",
    "               [2,3,4],\n",
    "               [6,4,5]]\n",
    "print(a[0])\n",
    "print(multi_dim_a[0][1]) # 一行二列的值"
   ]
  },
  {
   "cell_type": "markdown",
   "metadata": {},
   "source": [
    "## 10.4. 字典"
   ]
  },
  {
   "cell_type": "code",
   "execution_count": 18,
   "metadata": {},
   "outputs": [
    {
     "name": "stdout",
     "output_type": "stream",
     "text": [
      "1\n",
      "{'apple': 1, 'orange': {1: 3, 3: 'a'}}\n",
      "{'apple': 1, 'orange': {1: 3, 3: 'a'}, 'b': 20}\n",
      "a\n"
     ]
    }
   ],
   "source": [
    "def fun():\n",
    "    print('hello')\n",
    "d2 = {1:[1,2,3], '2':{1:3,3:'a'}, 'ora':fun} # 键可以是数字、字符串；值可以是列表、字典、函数等等\n",
    "\n",
    "d = {'apple':1, 'pear':2, 'orange':{1:3,3:'a'}}\n",
    "print(d['apple']) # 用键查询字典里的值\n",
    "del d['pear'] # 删键则删除该组键值对\n",
    "print(d)\n",
    "d['b'] = 20 # 添加新的键值\n",
    "rint(d)\n",
    "\n",
    "print(d['orange'][3]) # 输出字典中的字典的某元素"
   ]
  },
  {
   "cell_type": "markdown",
   "metadata": {},
   "source": [
    "# 11. 模块"
   ]
  },
  {
   "cell_type": "code",
   "execution_count": 19,
   "metadata": {},
   "outputs": [
    {
     "name": "stdout",
     "output_type": "stream",
     "text": [
      "time.struct_time(tm_year=2018, tm_mon=10, tm_mday=5, tm_hour=12, tm_min=53, tm_sec=10, tm_wday=4, tm_yday=278, tm_isdst=0)\n",
      "time.struct_time(tm_year=2018, tm_mon=10, tm_mday=5, tm_hour=12, tm_min=53, tm_sec=10, tm_wday=4, tm_yday=278, tm_isdst=0)\n",
      "time.struct_time(tm_year=2018, tm_mon=10, tm_mday=5, tm_hour=12, tm_min=53, tm_sec=10, tm_wday=4, tm_yday=278, tm_isdst=0)\n",
      "1538715190.195018\n"
     ]
    },
    {
     "data": {
      "text/plain": [
       "\"\\n编写一个脚本m1.py作为模块，内容是定义了一个函数：\\ndef printdata(data):\\n    print('I am m1')\\n    print(data)\\n模块的脚本需在当前工作目录下，或放到python的site_packages目录下。\\n\\n在另一个脚本中调用m1模块：\\nimport m1\\nm1.printdata('I am python1!')\\n\""
      ]
     },
     "execution_count": 19,
     "metadata": {},
     "output_type": "execute_result"
    }
   ],
   "source": [
    "# 11.1. import模块\n",
    "\n",
    "import time\n",
    "print(time.localtime())\n",
    "\n",
    "import time as t # 给个简称\n",
    "print(t.localtime())\n",
    "\n",
    "from time import time, localtime\n",
    "print(localtime())\n",
    "print(time())\n",
    "\n",
    "from time import *\n",
    "\n",
    "\n",
    "# 11.2. 自己的模块\n",
    "\n",
    "'''\n",
    "编写一个脚本m1.py作为模块，内容是定义了一个函数：\n",
    "def printdata(data):\n",
    "    print('I am m1')\n",
    "    print(data)\n",
    "模块的脚本需在当前工作目录下，或放到python的site_packages目录下。\n",
    "\n",
    "在另一个脚本中调用m1模块：\n",
    "import m1\n",
    "m1.printdata('I am python1!')\n",
    "'''"
   ]
  },
  {
   "cell_type": "markdown",
   "metadata": {},
   "source": [
    "# 12. 其他\n",
    "\n",
    "## 12.1. continue & break"
   ]
  },
  {
   "cell_type": "code",
   "execution_count": null,
   "metadata": {},
   "outputs": [
    {
     "name": "stdout",
     "output_type": "stream",
     "text": [
      "type something:1\n",
      "finish run\n",
      "type something:2\n",
      "still in while loop\n",
      "type something:1\n",
      "finish run\n",
      "type something:1\n",
      "type something:2\n",
      "still in while loop\n"
     ]
    }
   ],
   "source": [
    "# 不用这两个命令的写法：\n",
    "\n",
    "a = True\n",
    "while a:\n",
    "    b = input('type something:')\n",
    "    if b == '1':\n",
    "        a = False\n",
    "    else:\n",
    "        pass\n",
    "print('finish run')\n",
    "\n",
    "\n",
    "# 用break跳出循环：\n",
    "\n",
    "while True:\n",
    "    b = input('type something:')\n",
    "    if b == '1':\n",
    "        break\n",
    "    else:\n",
    "        pass\n",
    "    print('still in while loop')\n",
    "print('finish run')\n",
    "\n",
    "\n",
    "# 用continue直接进入下一个循环（不进行循环中剩余的语句）：\n",
    "\n",
    "while True:\n",
    "    b = input('type something:')\n",
    "    if b == '1':\n",
    "        continue\n",
    "    else:\n",
    "        pass\n",
    "    print('still in while loop')\n",
    "\n",
    "# 注意：用了continue后不再执行剩余的语句，包括if后面的print语句。\n",
    "# 而像前面用a=False的话，还是会执行完这一轮循环的所有语句，即会输出“still in while loop”：\n",
    "\n",
    "a = True\n",
    "while True:\n",
    "    b = input('type something:')\n",
    "    if b == '1':\n",
    "        a = False\n",
    "    else:\n",
    "        pass\n",
    "    print('still in while loop')\n",
    "print('finish run')"
   ]
  },
  {
   "cell_type": "markdown",
   "metadata": {},
   "source": [
    "## 12.2. try 错误处理"
   ]
  },
  {
   "cell_type": "code",
   "execution_count": null,
   "metadata": {},
   "outputs": [],
   "source": [
    "try:\n",
    "    file = open('eeeee', 'r+') # 以只读加写入的模式\n",
    "    \n",
    "except Exception as e: # 如果try结果报错，执行exception语句\n",
    "    print(e) # 输出错误信息\n",
    "    print('There is no file named eeeee')\n",
    "    response = input('Do you want to create a new file?')\n",
    "    if response == 'y':\n",
    "        file = open('eeeee', 'w')\n",
    "    else:\n",
    "        pass\n",
    "\n",
    "else: # 这是对应try的else，如果try的结果是对的，下面就写入字符串\n",
    "    file.write('ssss')\n",
    "file.close()"
   ]
  },
  {
   "cell_type": "markdown",
   "metadata": {},
   "source": [
    "## 12.3. zip lambda map"
   ]
  },
  {
   "cell_type": "code",
   "execution_count": 5,
   "metadata": {},
   "outputs": [
    {
     "name": "stdout",
     "output_type": "stream",
     "text": [
      "<zip object at 0x00000133464ABB88>\n",
      "[(1, 4), (2, 5), (3, 6)]\n"
     ]
    }
   ],
   "source": [
    "a = [1,2,3]\n",
    "b = [4,5,6]\n",
    "print(zip(a,b)) # 只输出为zip对象及其地址\n",
    "print(list(zip(a,b))) # 显示为两两组合的元组的列表"
   ]
  },
  {
   "cell_type": "code",
   "execution_count": 6,
   "metadata": {},
   "outputs": [
    {
     "name": "stdout",
     "output_type": "stream",
     "text": [
      "0.5 8\n",
      "1.0 10\n",
      "1.5 12\n"
     ]
    }
   ],
   "source": [
    "# 可作为迭代器的输出\n",
    "for i,j in zip(a,b):\n",
    "    print(i/2, j*2)"
   ]
  },
  {
   "cell_type": "code",
   "execution_count": 8,
   "metadata": {},
   "outputs": [
    {
     "name": "stdout",
     "output_type": "stream",
     "text": [
      "[(1, 1, 4), (2, 2, 5), (3, 3, 6)]\n"
     ]
    }
   ],
   "source": [
    "# 也可以三个组合\n",
    "print(list(zip(a,a,b)))"
   ]
  },
  {
   "cell_type": "code",
   "execution_count": 11,
   "metadata": {},
   "outputs": [
    {
     "name": "stdout",
     "output_type": "stream",
     "text": [
      "5\n",
      "11\n"
     ]
    }
   ],
   "source": [
    "# 函数定义的普通方式\n",
    "def fun1(x,y):\n",
    "    return(x+y)\n",
    "print(fun1(2,3))\n",
    "\n",
    "# 用lambda快速定义简单函数\n",
    "fun2 = lambda x,y: x+y\n",
    "print(fun2(5,6))"
   ]
  },
  {
   "cell_type": "code",
   "execution_count": 14,
   "metadata": {},
   "outputs": [
    {
     "name": "stdout",
     "output_type": "stream",
     "text": [
      "<map object at 0x00000133464CE208>\n",
      "[3]\n",
      "[3, 8]\n"
     ]
    }
   ],
   "source": [
    "print(map(fun1, [1], [2])) # 输出为map对象。值用列表形式，返回也是列表\n",
    "print(list(map(fun1, [1], [2])))\n",
    "print(list(map(fun1, [1,3], [2,5]))) # 对应元素两两运算\n",
    "\n",
    "# 唔：zip是把列表元素两两对应；lambda是快速构建函数；map是把函数及其值（尤其是多组值）组合起来。\n"
   ]
  },
  {
   "cell_type": "markdown",
   "metadata": {},
   "source": [
    "## 12.4. copy & deepcopy 浅复制和深复制"
   ]
  },
  {
   "cell_type": "code",
   "execution_count": 15,
   "metadata": {},
   "outputs": [
    {
     "name": "stdout",
     "output_type": "stream",
     "text": [
      "1319733353480\n",
      "1319733353480\n",
      "True\n",
      "False\n",
      "False\n",
      "True\n",
      "False\n"
     ]
    }
   ],
   "source": [
    "import copy\n",
    "a = [1,2,3]\n",
    "b = a # 最表层的拷贝，第一层的地址都一样\n",
    "print(id(a))\n",
    "print(id(b)) # 地址相同。所以一个变量的值改变，另一个也变\n",
    "print(id(a) == id(b))\n",
    "\n",
    "c = copy.copy(a) # 浅拷贝只是拷贝值，而第一层的地址不同\n",
    "print(id(a) == id(c))\n",
    "\n",
    "a = [1,2,[3,4]]\n",
    "d = copy.copy(a)\n",
    "print(id(a) == id(d))\n",
    "print(id(a[2]) == id(d[2])) # 但第二层列表的地址是一样的，值会跟着变\n",
    "\n",
    "e = copy.deepcopy(a)\n",
    "print(id(a[2]) == id(e[2])) # 深拷贝是完全拷贝，没有任何相同地址的元素"
   ]
  },
  {
   "cell_type": "markdown",
   "metadata": {},
   "source": [
    "## 12.5. threading 多线程"
   ]
  },
  {
   "cell_type": "code",
   "execution_count": null,
   "metadata": {},
   "outputs": [],
   "source": []
  },
  {
   "cell_type": "markdown",
   "metadata": {},
   "source": [
    "## 12.6. multiprocessing 多进程"
   ]
  },
  {
   "cell_type": "code",
   "execution_count": null,
   "metadata": {},
   "outputs": [],
   "source": [
    "import multiprocessing as mp\n",
    "\n",
    "def job(a,d):\n",
    "    print('aaaa')\n",
    "\n",
    "if __name__=='__main__':\n",
    "    p1 = mp.Process(target=job, args=(1,2))\n",
    "    p1.start()\n",
    "    p1.join()\n",
    "\n",
    "# 保存后运行脚本即可。\n",
    "\n",
    "'''\n",
    "threading与processing很相似：\n",
    "import threading as td\n",
    "t1 = td.Tread(target=job, args=(1,2))\n",
    "p1 = mp.Process(target=job, args=(1,2))\n",
    "t1.start()\n",
    "p1.start()\n",
    "t1.join()\n",
    "p1.join()\n",
    "'''"
   ]
  },
  {
   "cell_type": "markdown",
   "metadata": {},
   "source": [
    "## 12.7. tkinter 窗口"
   ]
  },
  {
   "cell_type": "code",
   "execution_count": null,
   "metadata": {},
   "outputs": [],
   "source": []
  },
  {
   "cell_type": "markdown",
   "metadata": {},
   "source": [
    "## 12.8. pickle 保存数据"
   ]
  },
  {
   "cell_type": "code",
   "execution_count": null,
   "metadata": {},
   "outputs": [],
   "source": [
    "import pickle\n",
    "\n",
    "a_dict = {'da':111, 2:[23,1,4], '23':{1:2,'d':'sad'}}\n",
    "\n",
    "file = open('pickle_example.pickle', 'wb') # 写入为二进制的模式，无法直接打开阅读\n",
    "pickle.dump(a_dict, file) # 把字典a_dict的内容倒入file\n",
    "file.close()\n",
    "\n",
    "file = open('pickle_example.pickle', 'rb') # 打开pickle文件\n",
    "a_dict1 = pickle.load(file) # 把内容倒出来\n",
    "file.close()\n",
    "print(a_dict1)\n",
    "\n",
    "写入和读取都可以用with，会自动关闭文件：\n",
    "with open('pickle_example.pickle', 'rb') as file:\n",
    "    a_dict1 = pickle.load(file)\n",
    "print(a_dict1)"
   ]
  },
  {
   "cell_type": "markdown",
   "metadata": {},
   "source": [
    "## 12.9. set找不同"
   ]
  },
  {
   "cell_type": "code",
   "execution_count": null,
   "metadata": {},
   "outputs": [],
   "source": [
    "char_list = ['a', 'b', 'c', 'c', 'd', 'd', 'd']\n",
    "print(set(char_list)) # 可以去重。用了大括号，但不是字典\n",
    "print(type(set(char_list)))\n",
    "print(type({1:3}))\n",
    "\n",
    "sentence = 'Welcome Back to This Tutorial'\n",
    "print(set(sentence))\n",
    "\n",
    "unique_char = set(char_list)\n",
    "unique_char.add('x') # 追加\n",
    "print(unique_char)\n",
    "\n",
    "unique_char.clear() # 清除\n",
    "print(unique_char)\n",
    "\n",
    "unique_char.remove('x') # 追加\n",
    "print(unique_char.remove('x')) # 返回是None\n",
    "print(unique_char)\n",
    "\n",
    "print(unique_char.remove('y')) # 不存在y会报错\n",
    "print(unique_char.discard('y')) # 不报错，且返回列表内容\n",
    "\n",
    "set1 = unique_char\n",
    "set2 = {'a', 'e', 'i'}\n",
    "print(set1.difference(set2)) # set1中有而set2中没有\n",
    "print(set1.intersection(set2)) # 交集"
   ]
  },
  {
   "cell_type": "markdown",
   "metadata": {},
   "source": [
    "## 12.10. 正则表达式"
   ]
  },
  {
   "cell_type": "code",
   "execution_count": null,
   "metadata": {},
   "outputs": [],
   "source": [
    "import re\n",
    "\n",
    "pattern1 = 'cat'\n",
    "pattern2 = 'bird'\n",
    "string = 'dog runs to cat'\n",
    "\n",
    "print(pattern1 in string)\n",
    "print(pattern2 in string)\n",
    "\n",
    "print(re.search(pattern1, string))\n",
    "print(re.search(pattern2, string))\n",
    "\n",
    "ptn = r\"r[au]n\" # 开头的r表示使用正则表达式\n",
    "print(re.search(ptn, 'dog rans to cat'))\n",
    "\n",
    "print(re.search(r\"r[A-Z]n\", 'dog runs to cat'))\n",
    "print(re.search(r\"r[a-z]n\", 'dog runs to cat'))\n",
    "print(re.search(r\"r[0-9]n\", 'dog r2s to cat'))\n",
    "print(re.search(r\"r[0-9a-z]n\", 'dog runs to cat'))\n",
    "\n",
    "print(re.search(r\"r\\dn\", 'dog r4s to cat')) # 数字\n",
    "print(re.search(r\"r\\Dn\", 'dog r4s ran to cat')) # 非数字\n",
    "\n",
    "print(re.search(r\"r\\sn\", 'dog r4s to cat')) # 空白符\\t\\n\\r\\f\\v\n",
    "print(re.search(r\"r\\Sn\", 'dog r4s to cat')) # 非空白符\n",
    "\n",
    "print(re.search(r\"r\\wn\", 'dog r4s to cat')) # 字母数字下划线[a-zA-Z0-9]\n",
    "print(re.search(r\"r\\Wn\", 'dog r4s to cat')) # 非字母数字下划线\n",
    "\n",
    "print(re.search(r\"\\bruns\\b\", 'dog runs to cat')) # 仅相邻空格可以\n",
    "print(re.search(r\"\\Bruns\\B\", 'dog  runs  to cat')) # 无论多少空格都可以\n",
    "\n",
    "print(re.search(r\"runs\\\\\", 'dog runs\\ to cat'))\n",
    "print(re.search(r\"r.n\", 'dog r[ns to cat')) # 代替除了换行符\\n以外的任何字符\n",
    "\n",
    "\n",
    "r\"^dog\" # 句首\n",
    "r\"dog$\" # 句尾\n",
    "\n",
    "print(re.search(r\"Mon(day)?\", 'Monday')) # 有无day都匹配\n",
    "print(re.search(r\"Mon(day)?\", 'Mond'))\n",
    "\n",
    "string = \"\"\"\n",
    "dog runs to cat,\n",
    "I run to dog.\n",
    "\"\"\"\n",
    "print(re.search(r\"^I\", string)) # 只匹配字符串的首字符\n",
    "print(re.search(r\"^I\", string, flags = re.M)) # Multi-line，把每一行都单独匹配\n",
    "\n",
    "r\"ab*\" # b出现0或多次\n",
    "r\"ab+\" # b出现1或多次\n",
    "r\"ab{2,10}\" # b出现2到10次\n",
    "\n",
    "\n",
    "# group\n",
    "match = re.search(r\"(\\d+), Date: (.+)\", \"ID: 021523, Date: Feb/12/2017\")\n",
    "print(match.group())\n",
    "print(match.group(1)) # 第一个括号里匹配到的东西\n",
    "print(match.group(2)) # 第二个括号里匹配到的东西\n",
    "\n",
    "match = re.search(r\"(?P<id>\\d+), Date: (?P<date>.+)\", \"ID: 021523, Date: Feb/12/2017\")\n",
    "print(match.group())\n",
    "print(match.group('id')) # 用名字代替前面的数字\n",
    "print(match.group('date'))\n",
    "\n",
    "\n",
    "print(re.findall(r\"r[ua]n\", \"run ran ren\")) # 找出所有\n",
    "print(re.findall(r\"(run|ran)\", \"run ran ren\")) # 找出run,ran\n",
    "print(re.findall(r\"r(u|a)n\", \"run ran ren\")) # 找出u,a\n",
    "\n",
    "print(re.sub(r\"r[au]ns\", \"catches\", \"dog runs to cat\")) # 替换为catches\n",
    "\n",
    "\n",
    "# 分裂\n",
    "print(re.split(r\"[,;\\.]\", \"a;b,c.d;e\")) # 用逗号、分号、点（需转义）来分裂\n",
    "\n",
    "\n",
    "# compile\n",
    "compiled_re = re.complie(r\"r[ua]n\") # 先编译模式，下面再搜索\n",
    "print(complied_re.search(\"dog ran to cat\"))\n"
   ]
  }
 ],
 "metadata": {
  "kernelspec": {
   "display_name": "Python 3",
   "language": "python",
   "name": "python3"
  },
  "language_info": {
   "codemirror_mode": {
    "name": "ipython",
    "version": 3
   },
   "file_extension": ".py",
   "mimetype": "text/x-python",
   "name": "python",
   "nbconvert_exporter": "python",
   "pygments_lexer": "ipython3",
   "version": "3.7.0"
  }
 },
 "nbformat": 4,
 "nbformat_minor": 2
}
